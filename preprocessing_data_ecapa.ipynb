{
 "cells": [
  {
   "cell_type": "markdown",
   "id": "23e589f3",
   "metadata": {},
   "source": [
    "## Preprocessing Audio Files for ECAPA-TDNN Model\n",
    "The following code provides a step-by-step guide to preprocessing audio files for compatibility with the ECAPA-TDNN model. The main goals are to ensure uniform sampling rates, consistent audio lengths, and properly formatted file paths."
   ]
  },
  {
   "cell_type": "code",
   "execution_count": null,
   "id": "8b56f0e8",
   "metadata": {
    "scrolled": true
   },
   "outputs": [
    {
     "name": "stdout",
     "output_type": "stream",
     "text": [
      "Intel MKL WARNING: Support of Intel(R) Streaming SIMD Extensions 4.2 (Intel(R) SSE4.2) enabled only processors has been deprecated. Intel oneAPI Math Kernel Library 2025.0 will require Intel(R) Advanced Vector Extensions (Intel(R) AVX) instructions.\n",
      "Intel MKL WARNING: Support of Intel(R) Streaming SIMD Extensions 4.2 (Intel(R) SSE4.2) enabled only processors has been deprecated. Intel oneAPI Math Kernel Library 2025.0 will require Intel(R) Advanced Vector Extensions (Intel(R) AVX) instructions.\n"
     ]
    },
    {
     "name": "stderr",
     "output_type": "stream",
     "text": [
      "\r",
      "Processing train_labels.csv:   0%|                    | 0/18386 [00:00<?, ?it/s]"
     ]
    }
   ],
   "source": [
    "import os\n",
    "import pandas as pd\n",
    "import librosa\n",
    "import numpy as np\n",
    "import soundfile as sf\n",
    "from tqdm import tqdm\n",
    "\n",
    "def preprocess_audio(file_path, target_sr=16000, target_duration=3.0):\n",
    "    \"\"\"\n",
    "    Preprocess audio to match ECAPA-TDNN requirements: resample, pad, truncate.\n",
    "    Args:\n",
    "        file_path (str): Path to the audio file.\n",
    "        target_sr (int): Target sample rate (e.g., 16000 Hz).\n",
    "        target_duration (float): Target duration in seconds (e.g., 3.0 seconds).\n",
    "    Returns:\n",
    "        np.ndarray: Preprocessed audio array.\n",
    "    \"\"\"\n",
    "    # Load the audio file\n",
    "    audio, sr = librosa.load(file_path, sr=target_sr, mono=True)\n",
    "    \n",
    "    # Calculate target length in samples\n",
    "    target_length = int(target_sr * target_duration)\n",
    "    \n",
    "    # Truncate or pad the audio\n",
    "    if len(audio) > target_length:\n",
    "        audio = audio[:target_length]  # Truncate\n",
    "    elif len(audio) < target_length:\n",
    "        audio = np.pad(audio, (0, target_length - len(audio)))  # Pad with zeros\n",
    "\n",
    "    return audio\n",
    "\n",
    "\n",
    "def preprocess_dataset(data_dir, output_dir, label_csv_path, target_sr=16000, target_duration=3.0):\n",
    "    \"\"\"\n",
    "    Preprocess all audio files in a dataset and save them to a new directory.\n",
    "    Args:\n",
    "        data_dir (str): Directory containing the input audio files.\n",
    "        output_dir (str): Directory to save the preprocessed audio files.\n",
    "        label_csv_path (str): Path to the CSV file with filenames and labels.\n",
    "        target_sr (int): Target sample rate (e.g., 16000 Hz).\n",
    "        target_duration (float): Target duration in seconds (e.g., 3.0 seconds).\n",
    "    \"\"\"\n",
    "    # Create output directory if it doesn't exist\n",
    "    os.makedirs(output_dir, exist_ok=True)\n",
    "\n",
    "    # Load the CSV file\n",
    "    labels_df = pd.read_csv(label_csv_path)\n",
    "\n",
    "    # Initialize a list to track updated file paths\n",
    "    updated_filenames = []\n",
    "\n",
    "    # Process each audio file listed in the CSV\n",
    "    for idx, row in tqdm(labels_df.iterrows(), total=len(labels_df), desc=f\"Processing {os.path.basename(label_csv_path)}\"):\n",
    "        file_name = row['filename']\n",
    "        label = row['label']\n",
    "        input_path = os.path.join(data_dir, file_name)\n",
    "        output_path = os.path.join(output_dir, file_name.replace(\".flac\", \".wav\"))  # Change extension to .wav\n",
    "\n",
    "        # Ensure the output directory exists\n",
    "        os.makedirs(os.path.dirname(output_path), exist_ok=True)\n",
    "\n",
    "        # Preprocess the audio\n",
    "        processed_audio = preprocess_audio(input_path, target_sr=target_sr, target_duration=target_duration)\n",
    "\n",
    "        # Save the preprocessed audio as WAV using soundfile\n",
    "        sf.write(output_path, processed_audio, samplerate=target_sr)\n",
    "\n",
    "        # Record the updated filename\n",
    "        updated_filenames.append(file_name.replace(\".flac\", \".wav\"))\n",
    "\n",
    "    # Update the CSV with new file paths\n",
    "    labels_df['filename'] = updated_filenames\n",
    "    new_csv_path = os.path.join(output_dir, os.path.basename(label_csv_path))\n",
    "    labels_df.to_csv(new_csv_path, index=False)\n",
    "\n",
    "    print(f\"Preprocessed audio saved to: {output_dir}\")\n",
    "    print(f\"Updated labels CSV saved to: {new_csv_path}\")\n",
    "\n",
    "\n",
    "# Directories for your dataset\n",
    "base_dir = \"/Users/samruddhikale/Desktop/CAIR/OG1/main_data\"\n",
    "output_base_dir = \"/Users/samruddhikale/Desktop/CAIR/OG1/Preprocessed_Dataset2\"\n",
    "\n",
    "# Preprocessing each folder\n",
    "folders = [\"train\", \"eval\", \"dev\"]\n",
    "for folder in folders:\n",
    "    input_dir = os.path.join(base_dir, folder)\n",
    "    output_dir = os.path.join(output_base_dir, folder)\n",
    "    label_csv_path = os.path.join(base_dir, f\"{folder}_labels.csv\")\n",
    "\n",
    "    preprocess_dataset(input_dir, output_dir, label_csv_path)\n"
   ]
  },
  {
   "cell_type": "markdown",
   "id": "673a5185",
   "metadata": {},
   "source": [
    "### Single file preprocessing for ecapa tdnn"
   ]
  },
  {
   "cell_type": "code",
   "execution_count": 2,
   "id": "45fa596f",
   "metadata": {},
   "outputs": [
    {
     "name": "stdout",
     "output_type": "stream",
     "text": [
      "Preprocessed audio saved to: /Users/samruddhikale/Downloads/s2.wav\n"
     ]
    }
   ],
   "source": [
    "import os\n",
    "import librosa\n",
    "import numpy as np\n",
    "import soundfile as sf\n",
    "\n",
    "def preprocess_audio(file_path, output_path, target_sr=16000, target_duration=3.0):\n",
    "    \"\"\"\n",
    "    Preprocess an audio file for compatibility with the ECAPA-TDNN model.\n",
    "    Args:\n",
    "        file_path (str): Path to the input audio file.\n",
    "        output_path (str): Path to save the preprocessed audio file.\n",
    "        target_sr (int): Target sample rate (e.g., 16000 Hz).\n",
    "        target_duration (float): Target duration in seconds (e.g., 3.0 seconds).\n",
    "    \"\"\"\n",
    "    # Load the audio file\n",
    "    audio, sr = librosa.load(file_path, sr=None, mono=True)\n",
    "    \n",
    "    # Resample to the target sample rate if necessary\n",
    "    if sr != target_sr:\n",
    "        audio = librosa.resample(audio, orig_sr=sr, target_sr=target_sr)\n",
    "        sr = target_sr\n",
    "    \n",
    "    # Adjust the audio duration to match the target duration\n",
    "    target_length = int(target_sr * target_duration)\n",
    "    if len(audio) < target_length:\n",
    "        # Pad with zeros if the audio is too short\n",
    "        padding = target_length - len(audio)\n",
    "        audio = np.pad(audio, (0, padding), mode=\"constant\")\n",
    "    elif len(audio) > target_length:\n",
    "        # Trim the audio if it is too long\n",
    "        audio = audio[:target_length]\n",
    "    \n",
    "    # Normalize the audio to the range [-1, 1]\n",
    "    if np.abs(audio).max() > 0:\n",
    "        audio = audio / np.abs(audio).max()\n",
    "    \n",
    "    # Save the preprocessed audio\n",
    "    sf.write(output_path, audio, samplerate=target_sr)\n",
    "    \n",
    "    print(f\"Preprocessed audio saved to: {output_path}\")\n",
    "\n",
    "# Example usage\n",
    "file_path = \"/Users/samruddhikale/Downloads/margot-to-trump.wav\"  # Replace with the actual path\n",
    "output_path = \"/Users/samruddhikale/Downloads/s2.wav\"  # Replace with the desired save path\n",
    "preprocess_audio(file_path, output_path)"
   ]
  }
 ],
 "metadata": {
  "kernelspec": {
   "display_name": "Python 3 (ipykernel)",
   "language": "python",
   "name": "python3"
  },
  "language_info": {
   "codemirror_mode": {
    "name": "ipython",
    "version": 3
   },
   "file_extension": ".py",
   "mimetype": "text/x-python",
   "name": "python",
   "nbconvert_exporter": "python",
   "pygments_lexer": "ipython3",
   "version": "3.8.16"
  }
 },
 "nbformat": 4,
 "nbformat_minor": 5
}
